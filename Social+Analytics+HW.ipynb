{
 "cells": [
  {
   "cell_type": "code",
   "execution_count": 79,
   "metadata": {},
   "outputs": [
    {
     "name": "stdout",
     "output_type": "stream",
     "text": [
      "Requirement already satisfied: vaderSentiment in c:\\programdata\\anaconda3\\lib\\site-packages\n"
     ]
    }
   ],
   "source": [
    "!pip install vaderSentiment"
   ]
  },
  {
   "cell_type": "code",
   "execution_count": 104,
   "metadata": {
    "collapsed": true
   },
   "outputs": [],
   "source": [
    "#Dependencies\n",
    "import tweepy\n",
    "import json\n",
    "import numpy as np\n",
    "import pandas as pd\n",
    "import matplotlib.pyplot as plt\n",
    "import seaborn as sns"
   ]
  },
  {
   "cell_type": "code",
   "execution_count": 105,
   "metadata": {
    "collapsed": true
   },
   "outputs": [],
   "source": [
    "# Import and Initialize Sentiment Analyzer\n",
    "from vaderSentiment.vaderSentiment import SentimentIntensityAnalyzer \n",
    "analyzer = SentimentIntensityAnalyzer()\n",
    "\n",
    "\n",
    "# Twitter API Keys\n",
    "consumer_key = \"Ed4RNulN1lp7AbOooHa9STCoU\"\n",
    "consumer_secret = \"P7cUJlmJZq0VaCY0Jg7COliwQqzK0qYEyUF9Y0idx4ujb3ZlW5\"\n",
    "access_token = \"839621358724198402-dzdOsx2WWHrSuBwyNUiqSEnTivHozAZ\"\n",
    "access_token_secret = \"dCZ80uNRbFDjxdU2EckmNiSckdoATach6Q8zb7YYYE5ER\"\n",
    "\n",
    "# Setup Tweepy API Authentication\n",
    "auth = tweepy.OAuthHandler(consumer_key, consumer_secret)\n",
    "auth.set_access_token(access_token, access_token_secret)\n",
    "api = tweepy.API(auth)"
   ]
  },
  {
   "cell_type": "code",
   "execution_count": 106,
   "metadata": {
    "collapsed": true
   },
   "outputs": [],
   "source": [
    "target_user = ['@BBC', '@CBS', '@CNN', '@Fox', '@NYT']"
   ]
  },
  {
   "cell_type": "code",
   "execution_count": 107,
   "metadata": {},
   "outputs": [
    {
     "data": {
      "text/html": [
       "<div>\n",
       "<style>\n",
       "    .dataframe thead tr:only-child th {\n",
       "        text-align: right;\n",
       "    }\n",
       "\n",
       "    .dataframe thead th {\n",
       "        text-align: left;\n",
       "    }\n",
       "\n",
       "    .dataframe tbody tr th {\n",
       "        vertical-align: top;\n",
       "    }\n",
       "</style>\n",
       "<table border=\"1\" class=\"dataframe\">\n",
       "  <thead>\n",
       "    <tr style=\"text-align: right;\">\n",
       "      <th></th>\n",
       "      <th>@BBC</th>\n",
       "      <th>@CBS</th>\n",
       "      <th>@CNN</th>\n",
       "      <th>@Fox</th>\n",
       "      <th>@NYT</th>\n",
       "    </tr>\n",
       "  </thead>\n",
       "  <tbody>\n",
       "  </tbody>\n",
       "</table>\n",
       "</div>"
      ],
      "text/plain": [
       "Empty DataFrame\n",
       "Columns: [@BBC, @CBS, @CNN, @Fox, @NYT]\n",
       "Index: []"
      ]
     },
     "execution_count": 107,
     "metadata": {},
     "output_type": "execute_result"
    }
   ],
   "source": [
    "df = pd.DataFrame({\"@BBC\":'',\n",
    "                   \"@CBS\":'',\n",
    "                   \"@CNN\":'',\n",
    "                   \"@Fox\":'',\n",
    "                   \"@NYT\":''}, index=[])\n",
    "df.head()"
   ]
  },
  {
   "cell_type": "code",
   "execution_count": 108,
   "metadata": {},
   "outputs": [],
   "source": [
    "# Loop through each news organization\n",
    "\n",
    "for user in target_user:\n",
    "    counter = 0\n",
    "    \n",
    "    # Loop through 100 tweets\n",
    "    for status in tweepy.Cursor(api.user_timeline, id=user).items(100):\n",
    "        \n",
    "        # Extract text\n",
    "        text = status.text\n",
    "        \n",
    "        # Run Vader Analysis on each tweet\n",
    "        compound = analyzer.polarity_scores(text)[\"compound\"]\n",
    "        \n",
    "        # Add each value to the dataframe\n",
    "        df.set_value(counter, user, compound)\n",
    "        \n",
    "        # Increment counter\n",
    "        counter = counter + 1"
   ]
  },
  {
   "cell_type": "code",
   "execution_count": 109,
   "metadata": {},
   "outputs": [
    {
     "data": {
      "text/html": [
       "<div>\n",
       "<style>\n",
       "    .dataframe thead tr:only-child th {\n",
       "        text-align: right;\n",
       "    }\n",
       "\n",
       "    .dataframe thead th {\n",
       "        text-align: left;\n",
       "    }\n",
       "\n",
       "    .dataframe tbody tr th {\n",
       "        vertical-align: top;\n",
       "    }\n",
       "</style>\n",
       "<table border=\"1\" class=\"dataframe\">\n",
       "  <thead>\n",
       "    <tr style=\"text-align: right;\">\n",
       "      <th></th>\n",
       "      <th>@BBC</th>\n",
       "      <th>@CBS</th>\n",
       "      <th>@CNN</th>\n",
       "      <th>@Fox</th>\n",
       "      <th>@NYT</th>\n",
       "    </tr>\n",
       "  </thead>\n",
       "  <tbody>\n",
       "    <tr>\n",
       "      <th>0</th>\n",
       "      <td>0</td>\n",
       "      <td>0</td>\n",
       "      <td>-0.2263</td>\n",
       "      <td>0.3818</td>\n",
       "      <td>-0.2023</td>\n",
       "    </tr>\n",
       "    <tr>\n",
       "      <th>1</th>\n",
       "      <td>0</td>\n",
       "      <td>0.6166</td>\n",
       "      <td>0</td>\n",
       "      <td>0.7569</td>\n",
       "      <td>0.2023</td>\n",
       "    </tr>\n",
       "    <tr>\n",
       "      <th>2</th>\n",
       "      <td>0</td>\n",
       "      <td>0.7096</td>\n",
       "      <td>-0.2732</td>\n",
       "      <td>0.7096</td>\n",
       "      <td>0</td>\n",
       "    </tr>\n",
       "    <tr>\n",
       "      <th>3</th>\n",
       "      <td>0.3612</td>\n",
       "      <td>0.296</td>\n",
       "      <td>-0.2263</td>\n",
       "      <td>0.765</td>\n",
       "      <td>0</td>\n",
       "    </tr>\n",
       "    <tr>\n",
       "      <th>4</th>\n",
       "      <td>0.3182</td>\n",
       "      <td>0</td>\n",
       "      <td>0.3182</td>\n",
       "      <td>-0.34</td>\n",
       "      <td>0</td>\n",
       "    </tr>\n",
       "  </tbody>\n",
       "</table>\n",
       "</div>"
      ],
      "text/plain": [
       "     @BBC    @CBS    @CNN    @Fox    @NYT\n",
       "0       0       0 -0.2263  0.3818 -0.2023\n",
       "1       0  0.6166       0  0.7569  0.2023\n",
       "2       0  0.7096 -0.2732  0.7096       0\n",
       "3  0.3612   0.296 -0.2263   0.765       0\n",
       "4  0.3182       0  0.3182   -0.34       0"
      ]
     },
     "execution_count": 109,
     "metadata": {},
     "output_type": "execute_result"
    }
   ],
   "source": [
    "df.head()"
   ]
  },
  {
   "cell_type": "code",
   "execution_count": 110,
   "metadata": {},
   "outputs": [
    {
     "data": {
      "image/png": "[encoded data removed]",
      "text/plain": [
       "<matplotlib.figure.Figure at 0x1fbd11c6eb8>"
      ]
     },
     "metadata": {},
     "output_type": "display_data"
    }
   ],
   "source": [
    "x = np.arange(100, 0, -1)\n",
    "a = plt.scatter(x, df['@BBC'], alpha=0.5)\n",
    "b = plt.scatter(x, df['@CBS'], alpha=0.5)\n",
    "c = plt.scatter(x, df['@CNN'], alpha=0.5)\n",
    "d = plt.scatter(x, df['@Fox'], alpha=0.5)\n",
    "e = plt.scatter(x, df['@NYT'], alpha=0.5)\n",
    "plt.title('Sentiment Analysis of Tweets (3/17/2018)')\n",
    "plt.xlabel('Tweets Ago')\n",
    "plt.ylabel('Tweet Polarity')\n",
    "plt.gca().invert_xaxis()\n",
    "plt.legend((a,b,c,d,e),('@BBC', '@CBS','@CNN', '@Fox', '@NewYorkTimes'),numpoints=1, loc='upper right', ncol=1, fontsize=8)\n",
    "lgd = plt.legend(bbox_to_anchor=(1, 1))\n",
    "plt.savefig('Sentiment_scatter_plot.png', bbox_extra_artists=(lgd,), bbox_inches='tight')\n",
    "plt.show()"
   ]
  },
  {
   "cell_type": "code",
   "execution_count": 111,
   "metadata": {},
   "outputs": [
    {
     "data": {
      "text/plain": [
       "@BBC    0.167792\n",
       "@CBS    0.303510\n",
       "@CNN   -0.040881\n",
       "@Fox    0.160958\n",
       "@NYT   -0.036643\n",
       "dtype: float64"
      ]
     },
     "execution_count": 111,
     "metadata": {},
     "output_type": "execute_result"
    }
   ],
   "source": [
    "#find average of each news channel\n",
    "\n",
    "df_mean = df.mean()\n",
    "\n",
    "df_mean.head()"
   ]
  },
  {
   "cell_type": "code",
   "execution_count": 112,
   "metadata": {},
   "outputs": [
    {
     "data": {
      "image/png": "[encoded data removed]",
      "text/plain": [
       "<matplotlib.figure.Figure at 0x1fbd3fe3240>"
      ]
     },
     "metadata": {},
     "output_type": "display_data"
    }
   ],
   "source": [
    "df_mean.plot(kind='bar')\n",
    "plt.title('Overall Media Sentiment Score')\n",
    "plt.xlabel('')\n",
    "plt.ylabel('Tweet Polarity')\n",
    "plt.savefig('Sentiment_Avg.png')\n",
    "plt.tight_layout()\n",
    "plt.show()"
   ]
  },
  {
   "cell_type": "code",
   "execution_count": 113,
   "metadata": {
    "collapsed": true
   },
   "outputs": [],
   "source": [
    "#THREE OBSERVABLE TRENDS BASED ON DATA:\n",
    "\n",
    "# --- 1 CBS and BBC had the most positive sentiment score of all five news organizations in the data presented. Suprisingly, CNN and NYT got the most negative sentiments compared to Fox.\n",
    "# --- 2 All five are almost at par in terms of tweet occurrence.\n",
    "# --- 3 There's little to no pattern of negative or positive sentiment tweet occurrence at a particular timing."
   ]
  },
  {
   "cell_type": "code",
   "execution_count": null,
   "metadata": {
    "collapsed": true
   },
   "outputs": [],
   "source": []
  }
 ],
 "metadata": {
  "kernelspec": {
   "display_name": "Python 3",
   "language": "python",
   "name": "python3"
  },
  "language_info": {
   "codemirror_mode": {
    "name": "ipython",
    "version": 3
   },
   "file_extension": ".py",
   "mimetype": "text/x-python",
   "name": "python",
   "nbconvert_exporter": "python",
   "pygments_lexer": "ipython3",
   "version": "3.6.3"
  }
 },
 "nbformat": 4,
 "nbformat_minor": 2
}
